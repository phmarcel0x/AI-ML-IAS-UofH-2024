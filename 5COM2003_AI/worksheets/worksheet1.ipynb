{
 "cells": [
  {
   "cell_type": "markdown",
   "metadata": {},
   "source": [
    "### 5COM2003-AI \n",
    "#### Worksheet 1"
   ]
  },
  {
   "cell_type": "code",
   "execution_count": 1,
   "metadata": {},
   "outputs": [
    {
     "data": {
      "text/plain": [
       "[[None, None, None, None, None],\n",
       " [None, None, None, None, None],\n",
       " [None, None, None, None, None],\n",
       " [None, None, None, None, None],\n",
       " [None, None, None, None, None]]"
      ]
     },
     "execution_count": 1,
     "metadata": {},
     "output_type": "execute_result"
    }
   ],
   "source": [
    "# Create 5x5 Grid World\n",
    "grid_world = []\n",
    "for i in range(5):\n",
    "    grid_world.append([None, None, None, None, None])\n",
    "    \n",
    "grid_world"
   ]
  },
  {
   "cell_type": "code",
   "execution_count": 2,
   "metadata": {},
   "outputs": [
    {
     "data": {
      "text/plain": [
       "'X'"
      ]
     },
     "execution_count": 2,
     "metadata": {},
     "output_type": "execute_result"
    }
   ],
   "source": [
    "# Create an agent\n",
    "agent = 'X'\n",
    "\n",
    "# Bring agent X in the middle of Grid World\n",
    "grid_world[2][2] = agent\n",
    "grid_world[2][2]\n",
    "\n"
   ]
  },
  {
   "cell_type": "code",
   "execution_count": 7,
   "metadata": {},
   "outputs": [
    {
     "name": "stdout",
     "output_type": "stream",
     "text": [
      "None None None None None \n",
      "None None None None None \n",
      "None None X None None \n",
      "None None None None None \n",
      "None None None None None \n"
     ]
    }
   ],
   "source": [
    "class Agent:\n",
    "    # Constructor\n",
    "    def __init__(self, row, col):\n",
    "        self.row = row\n",
    "        self.col = col\n",
    "\n",
    "class GridWorld:\n",
    "    # Constructor\n",
    "    def __init__(self, num_rows = 5, num_cols = 5):\n",
    "        self.num_rows = num_rows\n",
    "        self.num_cols = num_cols\n",
    "        self.agent = Agent(2, 2) \n",
    "        \n",
    "    def moveAgentWest(self):\n",
    "        current_col = self.agent.col\n",
    "        next_col = current_col - 1\n",
    "        if next_col >= 0:\n",
    "            self.agent.col = next_col\n",
    "\n",
    "    # Display Grid World with Agent 'X'\n",
    "    def displayGrid(self):\n",
    "        for i in range(self.num_cols):\n",
    "            for j in range(self.num_rows):\n",
    "                if self.agent.row == i and self.agent.col == j:\n",
    "                    print('X', end=\" \")\n",
    "                else:\n",
    "                    print(None, end=\" \")\n",
    "            print()\n",
    "                             \n",
    "world = GridWorld()\n",
    "world.displayGrid()\n"
   ]
  },
  {
   "cell_type": "code",
   "execution_count": 10,
   "metadata": {},
   "outputs": [
    {
     "name": "stdout",
     "output_type": "stream",
     "text": [
      "None None None None None \n",
      "None None None None None \n",
      "X None None None None \n",
      "None None None None None \n",
      "None None None None None \n"
     ]
    }
   ],
   "source": [
    "world.moveAgentWest()\n",
    "world.displayGrid()\n"
   ]
  }
 ],
 "metadata": {
  "kernelspec": {
   "display_name": "base",
   "language": "python",
   "name": "python3"
  },
  "language_info": {
   "codemirror_mode": {
    "name": "ipython",
    "version": 3
   },
   "file_extension": ".py",
   "mimetype": "text/x-python",
   "name": "python",
   "nbconvert_exporter": "python",
   "pygments_lexer": "ipython3",
   "version": "3.11.0"
  }
 },
 "nbformat": 4,
 "nbformat_minor": 2
}
