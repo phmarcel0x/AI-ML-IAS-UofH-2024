{
 "cells": [
  {
   "cell_type": "markdown",
   "metadata": {},
   "source": [
    "## 5COM2003: Artificial Intelligence\n",
    "### Practical 1\n",
    "#### General Instructions:\n",
    "    - You are in groups of roughly three. I want you to discuss the first task in the first group. The second\n",
    "        task after you have been rotated. And so on.\n",
    "    - If you do not understand something or something comes up please speak with your lab leader, that is\n",
    "        what they are there for :)\n",
    "    - Be kind to one another, ask where you do not understand an argument. This models academic debate.\n",
    "    - Try to go as deep on the problem as possible.\n",
    "    - If you already know how please take a support role, the goal is for everyone to understand as much of\n",
    "        the task as possible.\n",
    "\n",
    "#### Grid Worlds\n",
    "    1. How could you implement a 1 dimensional Grid World in Python?\n",
    "        Tip: Think back to Algorithms and Datastructures specifically to ArrayLists and LinkedLists.\n",
    "        Extra: If you solved the task using one of the two data structures above solve it with the other. If you\n",
    "        solved it with both, what other structures could form a Grid World?\n",
    "        \n",
    "    \n",
    "    2. Exchange your ideas from the first question. How can we now extend these models two a two dimensional space?\n",
    "        Extra: How can we store additional information about our world, such as colours?\n",
    "\n",
    "    \n",
    "    3. To further extend our model (assume 2D), we now want to include non reachable states, how can we enable this feature?\n",
    "        Extra: Try this with LinkedLists AND ArrayLists.\n",
    "        Extra2: How would this look with Graphs?"
   ]
  },
  {
   "cell_type": "code",
   "execution_count": 3,
   "metadata": {},
   "outputs": [
    {
     "data": {
      "text/plain": [
       "[None, None, None]"
      ]
     },
     "execution_count": 3,
     "metadata": {},
     "output_type": "execute_result"
    }
   ],
   "source": [
    "# 1. 1D grid world\n",
    "grid_world = [None, None,None]\n",
    "grid_world"
   ]
  },
  {
   "cell_type": "code",
   "execution_count": 13,
   "metadata": {},
   "outputs": [
    {
     "name": "stdout",
     "output_type": "stream",
     "text": [
      "GridWorld2:\n"
     ]
    },
    {
     "data": {
      "text/plain": [
       "[[None, None, None, None, None],\n",
       " [None, None, None, None, None],\n",
       " [None, None, None, None, None],\n",
       " [None, None, None, None, None],\n",
       " [None, None, None, None, None]]"
      ]
     },
     "execution_count": 13,
     "metadata": {},
     "output_type": "execute_result"
    }
   ],
   "source": [
    "# 2. 2D grid world\n",
    "grid_world2 = []\n",
    "for i in range (5):\n",
    "    grid_world2.append([None, None, None, None, None])\n",
    "    \n",
    "print('GridWorld2:')\n",
    "grid_world2"
   ]
  },
  {
   "cell_type": "code",
   "execution_count": 14,
   "metadata": {},
   "outputs": [
    {
     "name": "stdout",
     "output_type": "stream",
     "text": [
      "GridWorld3:\n"
     ]
    },
    {
     "data": {
      "text/plain": [
       "[[None, None, None, None, None],\n",
       " [None, None, None, None, None],\n",
       " [None, None, None, None, None],\n",
       " [None, None, None, None, None],\n",
       " [None, None, None, None, None]]"
      ]
     },
     "execution_count": 14,
     "metadata": {},
     "output_type": "execute_result"
    }
   ],
   "source": [
    "# Alternatively\n",
    "grid_world3 = [[None for _ in range(5)] for _ in range(5)]\n",
    "print('GridWorld3:')\n",
    "grid_world3"
   ]
  }
 ],
 "metadata": {
  "kernelspec": {
   "display_name": "base",
   "language": "python",
   "name": "python3"
  },
  "language_info": {
   "codemirror_mode": {
    "name": "ipython",
    "version": 3
   },
   "file_extension": ".py",
   "mimetype": "text/x-python",
   "name": "python",
   "nbconvert_exporter": "python",
   "pygments_lexer": "ipython3",
   "version": "3.11.0"
  }
 },
 "nbformat": 4,
 "nbformat_minor": 2
}
