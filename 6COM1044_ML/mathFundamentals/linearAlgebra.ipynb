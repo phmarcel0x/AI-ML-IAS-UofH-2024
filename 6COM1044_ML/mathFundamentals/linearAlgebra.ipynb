{
 "cells": [
  {
   "cell_type": "markdown",
   "metadata": {},
   "source": [
    "## 6COM1044-0105-Machine Learning and Neural Computing\n",
    "### Math Fundamentals"
   ]
  },
  {
   "cell_type": "code",
   "execution_count": 1,
   "metadata": {},
   "outputs": [],
   "source": [
    "import numpy as np\n",
    "from numpy.linalg import inv\n",
    "from scipy.linalg import svd"
   ]
  },
  {
   "cell_type": "code",
   "execution_count": 2,
   "metadata": {},
   "outputs": [
    {
     "name": "stdout",
     "output_type": "stream",
     "text": [
      "Vector x =  [82, 90, 65, 78, 46, 50, 51]\n"
     ]
    }
   ],
   "source": [
    "# Define two vectors\n",
    "x = [82, 90, 65, 78, 46, 50, 51] # A list\n",
    "print('Vector x = ', x)\n",
    "\n",
    "# Sum of vectors"
   ]
  },
  {
   "cell_type": "code",
   "execution_count": 3,
   "metadata": {},
   "outputs": [
    {
     "name": "stdout",
     "output_type": "stream",
     "text": [
      "Matrix M =  [[82, 90, 65, 78, 46], [76, 78, 60, 50, 60]]\n"
     ]
    }
   ],
   "source": [
    "# Define a matrix\n",
    "M = [[82, 90, 65, 78, 46],[76, 78, 60, 50, 60]] # A list of lists = a column vector\n",
    "print('Matrix M = ', M)\n"
   ]
  },
  {
   "cell_type": "code",
   "execution_count": 4,
   "metadata": {},
   "outputs": [
    {
     "name": "stdout",
     "output_type": "stream",
     "text": [
      "Matrix a:\n",
      "[[1. 2.]\n",
      " [3. 4.]]\n",
      "\n",
      "Inverse of matrix a:\n",
      "[[-2.   1. ]\n",
      " [ 1.5 -0.5]]\n"
     ]
    }
   ],
   "source": [
    "# Finding the inverse of a matrix\n",
    "a = np.array([[1., 2.], [3., 4.]])\n",
    "print('Matrix a:')\n",
    "print(a)\n",
    "print()\n",
    "\n",
    "a_inv = inv(a)\n",
    "print('Inverse of matrix a:')\n",
    "print(a_inv)"
   ]
  },
  {
   "cell_type": "code",
   "execution_count": 5,
   "metadata": {},
   "outputs": [
    {
     "name": "stdout",
     "output_type": "stream",
     "text": [
      "Matrix a:\n",
      "[[2. 4.]\n",
      " [6. 5.]\n",
      " [1. 0.]]\n",
      "\n",
      "Transpose of matrix a:\n",
      "[[2. 6. 1.]\n",
      " [4. 5. 0.]]\n"
     ]
    }
   ],
   "source": [
    "# Finding the transpose of a matrix\n",
    "\n",
    "a = np.array([[2., 4.], [6., 5.], [1., 0.]])\n",
    "print('Matrix a:')\n",
    "print(a)\n",
    "print()\n",
    "\n",
    "aT = a.transpose()\n",
    "print('Transpose of matrix a:')\n",
    "print(aT)"
   ]
  },
  {
   "cell_type": "code",
   "execution_count": 6,
   "metadata": {},
   "outputs": [
    {
     "name": "stdout",
     "output_type": "stream",
     "text": [
      "Matrix a:\n",
      "[[ 1.  5.  0.]\n",
      " [ 2.  4. 10.]\n",
      " [-1.  2.  3.]]\n",
      "\n",
      "Trace of matrix a (SUM of main diagonal):\n",
      "8.0\n"
     ]
    }
   ],
   "source": [
    "# Computing the trace of a matrix\n",
    "\n",
    "a = np.array([[1., 5., 0.], [2., 4., 10.], [-1., 2., 3.]])\n",
    "print('Matrix a:')\n",
    "print(a)\n",
    "print()\n",
    "\n",
    "b = a.trace()\n",
    "print('Trace of matrix a (SUM of main diagonal):')\n",
    "print(b)"
   ]
  },
  {
   "cell_type": "code",
   "execution_count": 7,
   "metadata": {},
   "outputs": [
    {
     "name": "stdout",
     "output_type": "stream",
     "text": [
      "Matrix A:\n",
      "[[1 2]\n",
      " [3 4]\n",
      " [5 6]]\n",
      "\n",
      "SVD of matrix A:\n",
      "U:\n",
      "[[-0.2298477   0.88346102  0.40824829]\n",
      " [-0.52474482  0.24078249 -0.81649658]\n",
      " [-0.81964194 -0.40189603  0.40824829]]\n",
      "S:\n",
      "[9.52551809 0.51430058]\n",
      "VT:\n",
      "[[-0.61962948 -0.78489445]\n",
      " [-0.78489445  0.61962948]]\n",
      "\n"
     ]
    }
   ],
   "source": [
    "# Matrix Single Value Decomposition (SVD)\n",
    "\n",
    "A = np.array([[1, 2], [3, 4], [5, 6]])\n",
    "print('Matrix A:')\n",
    "print(A)\n",
    "print()\n",
    "\n",
    "# Perform SVD on matrix A\n",
    "U, S, VT = svd(A)\n",
    "print('SVD of matrix A:')\n",
    "print('U:')\n",
    "print(U)\n",
    "print('S:')\n",
    "print(S)\n",
    "print('VT:')\n",
    "print(VT)\n",
    "print()"
   ]
  },
  {
   "cell_type": "code",
   "execution_count": 8,
   "metadata": {},
   "outputs": [
    {
     "name": "stdout",
     "output_type": "stream",
     "text": [
      "Original image size = 50370 pixels\n",
      "\n",
      "Reduced image size = 24950 pixels\n",
      "\n",
      "The compress ratio using 50 singular values is = 50.46654754814374 %\n"
     ]
    }
   ],
   "source": [
    "# Compress ratio exercise (PPT Linear Algebra II - Slide 40)\n",
    "n = 230 # width\n",
    "d = 219 # height\n",
    "k = 50 # number of singular values\n",
    "\n",
    "image_size = n*d # original image size\n",
    "print('Original image size =', image_size, 'pixels')\n",
    "print()\n",
    "\n",
    "image_size_reduced = n*k + k*k + d*k \n",
    "print('Reduced image size =', image_size_reduced, 'pixels')\n",
    "print()\n",
    "\n",
    "compressRatio = (1 - (image_size_reduced/image_size))*100\n",
    "print('The compress ratio using', k, 'singular values is =', compressRatio, '%')\n"
   ]
  }
 ],
 "metadata": {
  "kernelspec": {
   "display_name": "base",
   "language": "python",
   "name": "python3"
  },
  "language_info": {
   "codemirror_mode": {
    "name": "ipython",
    "version": 3
   },
   "file_extension": ".py",
   "mimetype": "text/x-python",
   "name": "python",
   "nbconvert_exporter": "python",
   "pygments_lexer": "ipython3",
   "version": "3.11.0"
  }
 },
 "nbformat": 4,
 "nbformat_minor": 2
}
