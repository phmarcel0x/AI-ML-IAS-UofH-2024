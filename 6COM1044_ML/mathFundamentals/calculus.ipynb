{
 "cells": [
  {
   "cell_type": "markdown",
   "metadata": {},
   "source": [
    "## 6COM1044-0105-Machine Learning and Neural Computing\n",
    "### Math Fundamentals: Calculus"
   ]
  }
 ],
 "metadata": {
  "language_info": {
   "name": "python"
  }
 },
 "nbformat": 4,
 "nbformat_minor": 2
}
