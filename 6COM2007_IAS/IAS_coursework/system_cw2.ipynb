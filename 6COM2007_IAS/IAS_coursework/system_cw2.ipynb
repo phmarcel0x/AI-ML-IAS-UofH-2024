{
 "cells": [
  {
   "cell_type": "markdown",
   "metadata": {},
   "source": [
    "### 6COM2007 - Programming and Testing the Intelligent Adaptive System\n",
    "- Marcelo Hernandez\n",
    "- UH Student ID: 23033126\n",
    "- April 25, 2024\n",
    "\n",
    "#### System Simulation Design"
   ]
  },
  {
   "cell_type": "code",
   "execution_count": 5,
   "metadata": {},
   "outputs": [],
   "source": [
    "# Libraries \n",
    "import pandas as pd\n",
    "import numpy as np\n",
    "\n",
    "# Load the data\n",
    "training_data = pd.read_csv('../IAS_DATA/6com2007-3_cleaned.csv')\n",
    "new_day_data = pd.read_csv('../IAS_DATA/New_day_cleaned.csv')\n"
   ]
  },
  {
   "cell_type": "code",
   "execution_count": 6,
   "metadata": {},
   "outputs": [],
   "source": [
    "# Constants and paramenters\n",
    "TIME_INTERVAL = pd.Timedelta(minutes=15)\n",
    "HEATER_TEMP_INCREASE = 0.5  # degrees per activation\n",
    "HEATER_DURATION = pd.Timedelta(hours=4)\n",
    "MAX_HEATER_ACTIVATIONS = 2  # per day"
   ]
  }
 ],
 "metadata": {
  "kernelspec": {
   "display_name": "base",
   "language": "python",
   "name": "python3"
  },
  "language_info": {
   "codemirror_mode": {
    "name": "ipython",
    "version": 3
   },
   "file_extension": ".py",
   "mimetype": "text/x-python",
   "name": "python",
   "nbconvert_exporter": "python",
   "pygments_lexer": "ipython3",
   "version": "3.9.18"
  }
 },
 "nbformat": 4,
 "nbformat_minor": 2
}
